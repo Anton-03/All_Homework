{
 "cells": [
  {
   "cell_type": "markdown",
   "metadata": {},
   "source": [
    "# Практическая работа 3"
   ]
  },
  {
   "cell_type": "markdown",
   "metadata": {},
   "source": [
    "## Задача 1"
   ]
  },
  {
   "cell_type": "code",
   "execution_count": 1,
   "metadata": {},
   "outputs": [
    {
     "name": "stdout",
     "output_type": "stream",
     "text": [
      "Anton\n",
      "Hello, Anton!\n"
     ]
    }
   ],
   "source": [
    "first_name = 'Hello,'\n",
    "last_name = (input())\n",
    "znak = '!'\n",
    "full_name = first_name + ' ' + last_name + znak\n",
    "print(full_name.title())"
   ]
  },
  {
   "cell_type": "markdown",
   "metadata": {},
   "source": [
    "## Задача 2"
   ]
  },
  {
   "cell_type": "code",
   "execution_count": 51,
   "metadata": {},
   "outputs": [
    {
     "name": "stdout",
     "output_type": "stream",
     "text": [
      "9\n",
      "  _~_    _~_    _~_    _~_    _~_    _~_    _~_    _~_    _~_  \n",
      " (o o)  (o o)  (o o)  (o o)  (o o)  (o o)  (o o)  (o o)  (o o) \n",
      " / V \\  / V \\  / V \\  / V \\  / V \\  / V \\  / V \\  / V \\  / V \\ \n",
      "/( _ )\\/( _ )\\/( _ )\\/( _ )\\/( _ )\\/( _ )\\/( _ )\\/( _ )\\/( _ )\\\n",
      " ^^ ^^  ^^ ^^  ^^ ^^  ^^ ^^  ^^ ^^  ^^ ^^  ^^ ^^  ^^ ^^  ^^ ^^ \n"
     ]
    }
   ],
   "source": [
    "n = int(input())\n",
    "print(\"  _~_  \"*n,\" (o o) \"*n,\" / V \\\\ \"*n,\"/( _ )\\\\\"*n,\" ^^ ^^ \"*n,sep=\"\\n\")"
   ]
  },
  {
   "cell_type": "markdown",
   "metadata": {},
   "source": [
    "## Задача 3"
   ]
  },
  {
   "cell_type": "code",
   "execution_count": 32,
   "metadata": {},
   "outputs": [
    {
     "name": "stdout",
     "output_type": "stream",
     "text": [
      "15\n",
      "4\n",
      "3\n"
     ]
    }
   ],
   "source": [
    "N = int(input())\n",
    "K = int(input())\n",
    "print(N//K)"
   ]
  },
  {
   "cell_type": "markdown",
   "metadata": {},
   "source": [
    "## Задача 4"
   ]
  },
  {
   "cell_type": "code",
   "execution_count": 33,
   "metadata": {},
   "outputs": [
    {
     "name": "stdout",
     "output_type": "stream",
     "text": [
      "13\n",
      "4\n",
      "1\n"
     ]
    }
   ],
   "source": [
    "N = int(input())\n",
    "K = int(input())\n",
    "print(N%K)"
   ]
  },
  {
   "cell_type": "markdown",
   "metadata": {},
   "source": [
    "## Задача 5"
   ]
  },
  {
   "cell_type": "code",
   "execution_count": 36,
   "metadata": {},
   "outputs": [
    {
     "name": "stdout",
     "output_type": "stream",
     "text": [
      "10\n",
      "1024\n"
     ]
    }
   ],
   "source": [
    "N = int(input())\n",
    "print(2**N)"
   ]
  },
  {
   "cell_type": "markdown",
   "metadata": {},
   "source": [
    "## Задача 6"
   ]
  },
  {
   "cell_type": "code",
   "execution_count": 46,
   "metadata": {},
   "outputs": [
    {
     "name": "stdout",
     "output_type": "stream",
     "text": [
      "123456\n",
      "6\n"
     ]
    }
   ],
   "source": [
    "N = input()\n",
    "print(N[-1])"
   ]
  },
  {
   "cell_type": "markdown",
   "metadata": {},
   "source": [
    "## Задача 7"
   ]
  },
  {
   "cell_type": "code",
   "execution_count": 53,
   "metadata": {},
   "outputs": [
    {
     "name": "stdout",
     "output_type": "stream",
     "text": [
      "94\n",
      "9\n"
     ]
    }
   ],
   "source": [
    "N = int(input())\n",
    "print(N//10)"
   ]
  },
  {
   "cell_type": "markdown",
   "metadata": {},
   "source": [
    "## Задача 8"
   ]
  },
  {
   "cell_type": "code",
   "execution_count": 56,
   "metadata": {},
   "outputs": [
    {
     "name": "stdout",
     "output_type": "stream",
     "text": [
      "14\n",
      "1\n"
     ]
    }
   ],
   "source": [
    "N = int(input())\n",
    "print(N//10)"
   ]
  },
  {
   "cell_type": "markdown",
   "metadata": {},
   "source": [
    "## Задача 9"
   ]
  },
  {
   "cell_type": "code",
   "execution_count": 66,
   "metadata": {},
   "outputs": [
    {
     "name": "stdout",
     "output_type": "stream",
     "text": [
      "444\n",
      "12\n"
     ]
    }
   ],
   "source": [
    "N = int(input())\n",
    "print(N//100+N//10%10+N%10)"
   ]
  },
  {
   "cell_type": "markdown",
   "metadata": {},
   "source": [
    "## Задача 10"
   ]
  },
  {
   "cell_type": "code",
   "execution_count": 48,
   "metadata": {},
   "outputs": [
    {
     "name": "stdout",
     "output_type": "stream",
     "text": [
      "AAAAAAAAAAAAAAAAAAAAAAAAAAAAAAAAAAAAAAAAAAAAAAAAAAAAAAAAAAAAAAAAAAAAAAAAAAAAAAAAAAAAAAAAAAAAAAAAAAAA\n"
     ]
    }
   ],
   "source": [
    "print(\"A\"*100)"
   ]
  },
  {
   "cell_type": "markdown",
   "metadata": {},
   "source": [
    "## Задача 11"
   ]
  },
  {
   "cell_type": "code",
   "execution_count": 107,
   "metadata": {},
   "outputs": [
    {
     "name": "stdout",
     "output_type": "stream",
     "text": [
      "555\n",
      "9 15\n"
     ]
    }
   ],
   "source": [
    "N = int(input())\n",
    "print(N//60, N%60)\n",
    "\n"
   ]
  },
  {
   "cell_type": "markdown",
   "metadata": {},
   "source": [
    "## Задача 12"
   ]
  },
  {
   "cell_type": "code",
   "execution_count": 108,
   "metadata": {},
   "outputs": [
    {
     "name": "stdout",
     "output_type": "stream",
     "text": [
      "4\n",
      "50\n",
      "4\n",
      "18 0\n"
     ]
    }
   ],
   "source": [
    "A = int(input())\n",
    "B = int(input())\n",
    "N = int(input())\n",
    "M = N * (100 * A + B)\n",
    "print(M // 100, M % 100)"
   ]
  },
  {
   "cell_type": "markdown",
   "metadata": {},
   "source": [
    "## Задача 13"
   ]
  },
  {
   "cell_type": "code",
   "execution_count": 11,
   "metadata": {},
   "outputs": [
    {
     "name": "stdout",
     "output_type": "stream",
     "text": [
      "111\n",
      "The next number for the number 111 is 112.\n",
      "The previous number for the number 111 is 110.\n"
     ]
    }
   ],
   "source": [
    "A = int(input())\n",
    "print('The next number for the number ' + str( A ) + ' is '+ str( A+1)+'.')\n",
    "print('The previous number for the number '+ str( A ) +' is ' +str( A-1)+'.')"
   ]
  },
  {
   "cell_type": "markdown",
   "metadata": {},
   "source": [
    "## Задача 14"
   ]
  },
  {
   "cell_type": "code",
   "execution_count": 17,
   "metadata": {},
   "outputs": [
    {
     "name": "stdout",
     "output_type": "stream",
     "text": [
      "0\n",
      "1\n"
     ]
    }
   ],
   "source": [
    "number = int(input())\n",
    "if number == 1:\n",
    "    print(0)\n",
    "else:\n",
    "    print(1)"
   ]
  },
  {
   "cell_type": "markdown",
   "metadata": {},
   "source": [
    "## Задача 15"
   ]
  },
  {
   "cell_type": "code",
   "execution_count": 24,
   "metadata": {},
   "outputs": [
    {
     "name": "stdout",
     "output_type": "stream",
     "text": [
      "111\n",
      "112\n"
     ]
    }
   ],
   "source": [
    "number = int(input())\n",
    "if number % 2 == 0:\n",
    "    print(number+2)\n",
    "else:\n",
    "    print(number+1)\n",
    "    "
   ]
  },
  {
   "cell_type": "markdown",
   "metadata": {},
   "source": [
    "## Задача 16"
   ]
  },
  {
   "cell_type": "code",
   "execution_count": 35,
   "metadata": {},
   "outputs": [
    {
     "name": "stdout",
     "output_type": "stream",
     "text": [
      "1\n",
      "1234567901234567901234567901234567901234567901234567901234567901234567901234567901234567901234567900987654320987654320987654320987654320987654320987654320987654320987654320987654320987654320987654321\n"
     ]
    }
   ],
   "source": [
    "number = int(input())\n",
    "number_str = str(number)*100\n",
    "number_str = int(number_str) **2\n",
    "print(number_str)"
   ]
  },
  {
   "cell_type": "markdown",
   "metadata": {},
   "source": [
    "## Задача 17"
   ]
  },
  {
   "cell_type": "code",
   "execution_count": 46,
   "metadata": {},
   "outputs": [
    {
     "name": "stdout",
     "output_type": "stream",
     "text": [
      "30\n",
      "3\n",
      "90\n"
     ]
    }
   ],
   "source": [
    "v = int(input())\n",
    "t = int(input())\n",
    "together = v * t \n",
    "if 109>=together:\n",
    "    \n",
    "    if together < 0:\n",
    "        print(together * (-1)-109)\n",
    "    else:\n",
    "        print(together)\n",
    "else:\n",
    "    print(together-109)"
   ]
  },
  {
   "cell_type": "markdown",
   "metadata": {},
   "source": [
    "## Задача 18"
   ]
  },
  {
   "cell_type": "code",
   "execution_count": 116,
   "metadata": {},
   "outputs": [
    {
     "name": "stdout",
     "output_type": "stream",
     "text": [
      "3601\n",
      "1 : 00 : 01\n"
     ]
    }
   ],
   "source": [
    "passed = int(input())\n",
    "if passed <86400:\n",
    "    h = passed//3600\n",
    "    mm = passed//60\n",
    "    if mm >= 60:\n",
    "        mm = mm%60\n",
    "    else:\n",
    "        mm = mm\n",
    "        \n",
    "    if mm<10:\n",
    "        str(mm)\n",
    "        mm='0'+str(mm)\n",
    "    else:\n",
    "        mm=mm\n",
    "        \n",
    "    ss = passed%60\n",
    "    \n",
    "    if ss<10:\n",
    "        str(ss)\n",
    "        ss='0'+str(ss)\n",
    "    else:\n",
    "        ss=ss\n",
    "        \n",
    "    \n",
    "    print(h,':',mm,':',ss)\n",
    "        \n",
    "    \n",
    "else:\n",
    "    h = (passed%86400)//3600\n",
    "    mm = passed//60\n",
    "    if mm >= 60:\n",
    "        mm = mm%60\n",
    "    else:\n",
    "        mm = mm\n",
    "        \n",
    "        if mm<10:\n",
    "            str(mm)\n",
    "            mm='0'+str(mm)\n",
    "        else:\n",
    "            mm=mm\n",
    "            \n",
    "    ss = (passed%86400)%60\n",
    "    if ss<10:\n",
    "        str(ss)\n",
    "        ss='0'+str(ss)\n",
    "    else:\n",
    "            ss=ss\n",
    "    \n",
    "    print(h,':',mm,':',ss)\n",
    "    "
   ]
  },
  {
   "cell_type": "markdown",
   "metadata": {},
   "source": [
    "## Задача 19"
   ]
  },
  {
   "cell_type": "code",
   "execution_count": 119,
   "metadata": {},
   "outputs": [
    {
     "name": "stdout",
     "output_type": "stream",
     "text": [
      "1\n",
      "1\n",
      "1\n",
      "2\n",
      "2\n",
      "2\n",
      "3661\n"
     ]
    }
   ],
   "source": [
    "h1=int(input())\n",
    "mm1=int(input())\n",
    "ss1=int(input())\n",
    "h2=int(input())\n",
    "mm2=int(input())\n",
    "ss2=int(input())\n",
    "h3=h2-h1\n",
    "mm3=mm2-mm1\n",
    "ss3=ss2-ss1\n",
    "D=(h3*3600)+(mm3*60)+ss3\n",
    "print(D)"
   ]
  },
  {
   "cell_type": "markdown",
   "metadata": {},
   "source": [
    "## Задача 20"
   ]
  },
  {
   "cell_type": "code",
   "execution_count": 132,
   "metadata": {},
   "outputs": [
    {
     "name": "stdout",
     "output_type": "stream",
     "text": [
      "700\n",
      "750\n",
      "2\n"
     ]
    }
   ],
   "source": [
    "N = int(input())\n",
    "M = int(input())\n",
    "D = M//N\n",
    "if M%N > 0:\n",
    "    D=D+1\n",
    "else:\n",
    "    D=D\n",
    "\n",
    "\n",
    "print(D)"
   ]
  },
  {
   "cell_type": "markdown",
   "metadata": {},
   "source": [
    "## Задача 21"
   ]
  },
  {
   "cell_type": "code",
   "execution_count": 134,
   "metadata": {},
   "outputs": [
    {
     "name": "stdout",
     "output_type": "stream",
     "text": [
      "10\n",
      "3\n",
      "2\n",
      "8\n"
     ]
    }
   ],
   "source": [
    "H = int(input())\n",
    "A = int(input())\n",
    "B = int(input())\n",
    "D = H - B\n",
    "print(D)"
   ]
  },
  {
   "cell_type": "markdown",
   "metadata": {},
   "source": [
    "## Задача 22"
   ]
  },
  {
   "cell_type": "code",
   "execution_count": 162,
   "metadata": {},
   "outputs": [
    {
     "name": "stdout",
     "output_type": "stream",
     "text": [
      "0110\n",
      "1\n"
     ]
    }
   ],
   "source": [
    "number = int(input())\n",
    "n1 = number // 1000\n",
    "n2 = number // 100 % 10\n",
    "n3 = number // 10 - n1 * 100 - n2 * 10\n",
    "n4 = number % 10\n",
    "S1 = (n1 - n4) ** 2\n",
    "S2 = (n2 - n3) ** 2\n",
    "print(S1 + S2 + 1)"
   ]
  },
  {
   "cell_type": "markdown",
   "metadata": {},
   "source": [
    "## Задача 23"
   ]
  },
  {
   "cell_type": "code",
   "execution_count": 167,
   "metadata": {},
   "outputs": [
    {
     "name": "stdout",
     "output_type": "stream",
     "text": [
      "5\n",
      "3\n",
      "5\n"
     ]
    }
   ],
   "source": [
    "a = int(input())\n",
    "b = int(input())\n",
    "print((((a // b) * a) + ((b // a) * b)) // ((a // b) + (b // a)))"
   ]
  },
  {
   "cell_type": "markdown",
   "metadata": {},
   "source": [
    "## Задача 24"
   ]
  },
  {
   "cell_type": "code",
   "execution_count": 171,
   "metadata": {},
   "outputs": [
    {
     "name": "stdout",
     "output_type": "stream",
     "text": [
      "10\n",
      "6\n",
      "NO\n"
     ]
    }
   ],
   "source": [
    "a = int(input())\n",
    "b = int(input())\n",
    "print('YES' * int(a % b == 0) or 'NO' * int(a % b != 0))"
   ]
  }
 ],
 "metadata": {
  "kernelspec": {
   "display_name": "Python 3",
   "language": "python",
   "name": "python3"
  },
  "language_info": {
   "codemirror_mode": {
    "name": "ipython",
    "version": 3
   },
   "file_extension": ".py",
   "mimetype": "text/x-python",
   "name": "python",
   "nbconvert_exporter": "python",
   "pygments_lexer": "ipython3",
   "version": "3.7.6"
  }
 },
 "nbformat": 4,
 "nbformat_minor": 4
}
